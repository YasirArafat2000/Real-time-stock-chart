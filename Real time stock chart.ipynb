{
 "cells": [
  {
   "cell_type": "code",
   "execution_count": 1,
   "metadata": {
    "collapsed": true
   },
   "outputs": [],
   "source": [
    "import pandas as pd\n",
    "import datetime\n",
    "import matplotlib.pyplot as plt\n",
    "import matplotlib.animation as animation\n",
    "from matplotlib import style\n",
    "\n"
   ]
  },
  {
   "cell_type": "code",
   "execution_count": 2,
   "metadata": {
    "collapsed": true
   },
   "outputs": [],
   "source": [
    "import requests"
   ]
  },
  {
   "cell_type": "code",
   "execution_count": 3,
   "metadata": {
    "collapsed": true
   },
   "outputs": [],
   "source": [
    "from bs4 import BeautifulSoup"
   ]
  },
  {
   "cell_type": "code",
   "execution_count": 4,
   "metadata": {
    "collapsed": true
   },
   "outputs": [],
   "source": [
    "def real_time_price(stock_code):\n",
    "    url = ('https://finance.yahoo.com/quote/') + stock_code + ('.HK?p=') + stock_code + ('.HK&.tsrc=fin-srch') \n",
    "    r = requests.get(url)\n",
    "    web_content = BeautifulSoup(r.text, 'lxml')\n",
    "    web_content = web_content.find('div', {\"class\" : 'My(6px) Pos(r) smartphone_Mt(6px)'})\n",
    "    web_content = web_content.find('span').text\n",
    "    if web_content == []:\n",
    "        web_content = '99999'\n",
    "    return web_content"
   ]
  },
  {
   "cell_type": "code",
   "execution_count": 5,
   "metadata": {},
   "outputs": [
    {
     "name": "stdout",
     "output_type": "stream",
     "text": [
      "63.250\n"
     ]
    }
   ],
   "source": [
    "web_content = real_time_price('0001')\n",
    "print(web_content)"
   ]
  },
  {
   "cell_type": "code",
   "execution_count": null,
   "metadata": {
    "collapsed": true
   },
   "outputs": [],
   "source": [
    "HSI = ['0001', '0002', '0003', '0005']\n",
    "for step in range(1,101):\n",
    "    price = []\n",
    "    col = []\n",
    "    time_stamp = datetime.datetime.now()\n",
    "    time_stamp = time_stamp.strftime(\"%Y-%m-%d %H:%M:%S\")\n",
    "    for stock_code in HSI:\n",
    "        price.append(real_time_price(stock_code))\n",
    "    col = [time_stamp]\n",
    "    col.extend(price)\n",
    "    df = pd.DataFrame(col)\n",
    "    df = df.T\n",
    "    df.to_csv('real time stock data.csv', mode='a', header = False)\n",
    "    print(col)"
   ]
  },
  {
   "cell_type": "code",
   "execution_count": null,
   "metadata": {
    "collapsed": true
   },
   "outputs": [],
   "source": [
    "style.use('fivethirtyeight')\n",
    "fig = plt.figure()\n",
    "ax1 = fig.add_subplot(2,2,1)\n",
    "ax2 = fig.add_subplot(2,2,2)\n",
    "ax3 = fig.add_subplot(2,2,3)\n",
    "ax4 = fig.add_subplot(2,2,4)"
   ]
  },
  {
   "cell_type": "code",
   "execution_count": null,
   "metadata": {
    "collapsed": true
   },
   "outputs": [],
   "source": [
    "def animate(i):\n",
    "    df = pd.read_csv('real time stock data.csv')\n",
    "    ys = df.iloc[1:, 2].values\n",
    "    xs = list(range(1, len(ys)+1))\n",
    "    ax1.clear()\n",
    "    ax1.plot(xs, ys)\n",
    "    ax1.set_title('CKH Holdings', fontsize = 12)\n",
    "    \n",
    "    ys = df.iloc[1:, 3].values\n",
    "    ax2.clear()\n",
    "    ax2.plot(xs,ys)\n",
    "    ax2.set_title('CLP Holdings', fontsize = 12)\n",
    "    \n",
    "    ys = df.iloc[1:, 4].values\n",
    "    as3.clear()\n",
    "    as3.plot(xs, ys)\n",
    "    as3.set_title('HK & China Gas', fontsize = 12)\n",
    "    \n",
    "    ys = df.iloc[1:, 5].values\n",
    "    as4.clear()\n",
    "    as4.plot(xs, ys)\n",
    "    as4.set_title('HSBC Holdings', fontsize = 12)\n",
    "    \n",
    "ani = animation.FuncAnimation(fig, animate, interval = 1000)\n",
    "\n",
    "plt.tight_layout()\n",
    "plt.show()"
   ]
  }
 ],
 "metadata": {
  "kernelspec": {
   "display_name": "Python 3",
   "language": "python",
   "name": "python3"
  },
  "language_info": {
   "codemirror_mode": {
    "name": "ipython",
    "version": 3
   },
   "file_extension": ".py",
   "mimetype": "text/x-python",
   "name": "python",
   "nbconvert_exporter": "python",
   "pygments_lexer": "ipython3",
   "version": "3.6.10"
  }
 },
 "nbformat": 4,
 "nbformat_minor": 2
}
